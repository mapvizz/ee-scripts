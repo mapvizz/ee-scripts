{
 "cells": [
  {
   "cell_type": "code",
   "execution_count": 44,
   "metadata": {},
   "outputs": [],
   "source": [
    "import ee\n",
    "import os\n",
    "import geemap\n",
    "import calendar"
   ]
  },
  {
   "cell_type": "code",
   "execution_count": 45,
   "metadata": {},
   "outputs": [],
   "source": [
    "ee.Initialize()"
   ]
  },
  {
   "cell_type": "code",
   "execution_count": 46,
   "metadata": {},
   "outputs": [],
   "source": [
    "roi =  ee.Geometry.Polygon(\n",
    "        [[[36.050662943101294, -0.30239147953987083],\n",
    "          [36.050662943101294, -0.42323864359236807],\n",
    "          [36.12447733519114, -0.42323864359236807],\n",
    "          [36.12447733519114, -0.30239147953987083]]])"
   ]
  },
  {
   "cell_type": "code",
   "execution_count": 47,
   "metadata": {},
   "outputs": [],
   "source": [
    "def maskS2clouds(image):\n",
    "    qa = image.select('QA60')\n",
    "    #   Bits 10 and 11 are clouds and cirrus, respectively.\n",
    "    cloudBitMask = 1 << 10\n",
    "    cirrusBitMask = 1 << 11\n",
    "    #Both flags should be set to zero, indicating clear conditions.\n",
    "    mask = qa.bitwiseAnd(cloudBitMask).eq(0).And(qa.bitwiseAnd(cirrusBitMask).eq(0));\n",
    "    return image.updateMask(mask).divide(10000);"
   ]
  },
  {
   "cell_type": "code",
   "execution_count": 48,
   "metadata": {},
   "outputs": [],
   "source": [
    "def monthlyLake(month):\n",
    "    start_date,end_date,_ = month\n",
    "    dataset = (ee.ImageCollection('COPERNICUS/S2_SR').filterDate(start_date,end_date)\n",
    "    .filter(ee.Filter.lt('CLOUDY_PIXEL_PERCENTAGE',25))\n",
    "    .filterBounds(roi)\n",
    "    .map(maskS2clouds)\n",
    "    .mean())\n",
    "    return dataset"
   ]
  },
  {
   "cell_type": "code",
   "execution_count": 49,
   "metadata": {},
   "outputs": [],
   "source": [
    "def get_start_end_dates(year,months):\n",
    "    MONTHS = []\n",
    "    \n",
    "    for month in months:\n",
    "        _,no_of_days = calendar.monthrange(YEAR, month)\n",
    "        month_str = str(month)\n",
    "        month_start = f'{YEAR}-{month_str.zfill(2)}-01'\n",
    "        month_end = f'{YEAR}-{month_str.zfill(2)}-{no_of_days}'\n",
    "        month_name = calendar.month_name[month]\n",
    "        MONTHS.append((month_start,month_end,month_name))\n",
    "        \n",
    "    return MONTHS"
   ]
  },
  {
   "cell_type": "code",
   "execution_count": 53,
   "metadata": {},
   "outputs": [],
   "source": [
    "YEAR = 2020\n",
    "MONTHS = range(1,10)\n",
    "\n",
    "months = get_start_end_dates(YEAR,MONTHS)\n",
    "\n",
    "coImages = ee.ImageCollection([monthlyLake(month) for month in months])\n",
    "month_names = [f'{month[2]} - {YEAR}' for month in months]"
   ]
  },
  {
   "cell_type": "code",
   "execution_count": 52,
   "metadata": {},
   "outputs": [
    {
     "data": {
      "application/vnd.jupyter.widget-view+json": {
       "model_id": "29bb1802cb364afdbb59c377fa728ff5",
       "version_major": 2,
       "version_minor": 0
      },
      "text/plain": [
       "Map(center=[40, -100], controls=(WidgetControl(options=['position'], widget=HBox(children=(ToggleButton(value=…"
      ]
     },
     "metadata": {},
     "output_type": "display_data"
    }
   ],
   "source": [
    "Map = geemap.Map()\n",
    "\n",
    "\n",
    "vis = {\n",
    "  \"min\": 0.0,\n",
    "  \"max\": 0.3,\n",
    "  \"bands\": ['B4', 'B3', 'B2'],\n",
    "};\n",
    "\n",
    "Map.addLayer(coImages.first().clip(roi),vis)\n",
    "\n",
    "Map"
   ]
  },
  {
   "cell_type": "code",
   "execution_count": 65,
   "metadata": {},
   "outputs": [
    {
     "name": "stdout",
     "output_type": "stream",
     "text": [
      "Generating URL...\n",
      "Downloading GIF image from https://earthengine.googleapis.com/v1alpha/projects/earthengine-legacy/videoThumbnails/da92d50fe608d5f83665e7a68ee39dce-6bfc14716d79d6471fc95753dcaa7dc3:getPixels\n",
      "Please wait ...\n",
      "The GIF image has been saved to: /Users/erickotenyo/Downloads/test.gif\n"
     ]
    },
    {
     "data": {
      "application/vnd.jupyter.widget-view+json": {
       "model_id": "1f218ba0a1c344f5b848104a6f9ffe1b",
       "version_major": 2,
       "version_minor": 0
      },
      "text/plain": [
       "Output()"
      ]
     },
     "metadata": {},
     "output_type": "display_data"
    }
   ],
   "source": [
    "video_args = {\n",
    "  'dimensions': 600,\n",
    "  'region': roi,\n",
    "  'framesPerSecond': 1,\n",
    "  \"min\": 0.0,\n",
    "  \"max\": 0.3,\n",
    "  \"bands\": ['B8', 'B11', 'B4'],\n",
    "}\n",
    "\n",
    "work_dir = os.path.join(os.path.expanduser(\"~\"), 'Downloads')\n",
    "out_gif = os.path.join(work_dir, \"test.gif\")\n",
    "\n",
    "geemap.download_ee_video(coImages, video_args, out_gif)\n",
    "\n",
    "texted_gif = os.path.join(work_dir, \"test_text.gif\")\n",
    "\n",
    "geemap.add_text_to_gif(out_gif,\n",
    "                       texted_gif, \n",
    "                       xy=('2%', '1%'), \n",
    "                       font_size=24, \n",
    "                       font_color='#000', \n",
    "                       duration=1000,\n",
    "                       text_sequence = month_names,\n",
    "                       add_progress_bar=True)\n",
    "\n",
    "geemap.show_image(texted_gif)"
   ]
  },
  {
   "cell_type": "code",
   "execution_count": null,
   "metadata": {},
   "outputs": [],
   "source": []
  }
 ],
 "metadata": {
  "kernelspec": {
   "display_name": "Python 3",
   "language": "python",
   "name": "python3"
  },
  "language_info": {
   "codemirror_mode": {
    "name": "ipython",
    "version": 3
   },
   "file_extension": ".py",
   "mimetype": "text/x-python",
   "name": "python",
   "nbconvert_exporter": "python",
   "pygments_lexer": "ipython3",
   "version": "3.8.5"
  }
 },
 "nbformat": 4,
 "nbformat_minor": 4
}
