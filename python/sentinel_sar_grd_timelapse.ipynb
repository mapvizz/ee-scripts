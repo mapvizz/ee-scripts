{
 "cells": [
  {
   "cell_type": "code",
   "execution_count": 1,
   "metadata": {},
   "outputs": [],
   "source": [
    "import ee\n",
    "import geemap\n",
    "import os\n",
    "import calendar"
   ]
  },
  {
   "cell_type": "code",
   "execution_count": 2,
   "metadata": {},
   "outputs": [],
   "source": [
    "ee.Initialize()"
   ]
  },
  {
   "cell_type": "code",
   "execution_count": 3,
   "metadata": {},
   "outputs": [],
   "source": [
    "ASSET_ID = 'COPERNICUS/S1_GRD'\n",
    "\n",
    "roi = ee.Geometry.Polygon(\n",
    "        [[[36.050662943101294, -0.30239147953987083],\n",
    "          [36.050662943101294, -0.42323864359236807],\n",
    "          [36.12447733519114, -0.42323864359236807],\n",
    "          [36.12447733519114, -0.30239147953987083]]]);"
   ]
  },
  {
   "cell_type": "code",
   "execution_count": 4,
   "metadata": {},
   "outputs": [],
   "source": [
    "collection = ee.ImageCollection(ASSET_ID)\n",
    "\n",
    "Map = geemap.Map()"
   ]
  },
  {
   "cell_type": "code",
   "execution_count": 5,
   "metadata": {},
   "outputs": [],
   "source": [
    "def fmask(img):\n",
    "    edge = img.lt(-30.0)\n",
    "    maskedImage = img.mask().And(edge.Not());\n",
    "    return img.updateMask(maskedImage);    "
   ]
  },
  {
   "cell_type": "code",
   "execution_count": 6,
   "metadata": {},
   "outputs": [],
   "source": [
    "def prepFilter(coll):\n",
    "    return(coll\n",
    "           .filterBounds(roi)\n",
    "           .filter(ee.Filter.listContains('transmitterReceiverPolarisation', 'VV'))\n",
    "           .filter(ee.Filter.eq('instrumentMode', 'IW'))\n",
    "           .select('VV')\n",
    "           .map(fmask)\n",
    "       )"
   ]
  },
  {
   "cell_type": "code",
   "execution_count": 7,
   "metadata": {},
   "outputs": [],
   "source": [
    "def get_start_end_dates(year,months):\n",
    "    MONTHS = []\n",
    "    \n",
    "    for month in months:\n",
    "        _,no_of_days = calendar.monthrange(YEAR, month)\n",
    "        month_str = str(month)\n",
    "        month_start = f'{YEAR}-{month_str.zfill(2)}-01'\n",
    "        month_end = f'{YEAR}-{month_str.zfill(2)}-{no_of_days}'\n",
    "        month_name = calendar.month_name[month]\n",
    "        MONTHS.append((month_start,month_end,month_name))\n",
    "        \n",
    "    return MONTHS"
   ]
  },
  {
   "cell_type": "code",
   "execution_count": 8,
   "metadata": {},
   "outputs": [],
   "source": [
    "def filter_date(coll,dates):\n",
    "    start_date,end_date,_ = dates\n",
    "    return coll.filterDate(start_date,end_date)\n",
    "\n",
    "\n",
    "def createImageCollectionFromMonths(coll, months):\n",
    "    images = []\n",
    "    \n",
    "    for month in months:\n",
    "        image_collection = filter_date(coll, month)\n",
    "        image = image_collection.mean()\n",
    "        images.append(image)\n",
    "\n",
    "    return ee.ImageCollection.fromImages(images)\n"
   ]
  },
  {
   "cell_type": "code",
   "execution_count": 9,
   "metadata": {},
   "outputs": [],
   "source": [
    "collection = prepFilter(collection)\n",
    "\n",
    "YEAR = 2020\n",
    "MONTHS = [1,5,9]\n",
    "\n",
    "months = get_start_end_dates(YEAR,MONTHS)\n",
    "\n",
    "newCollection = createImageCollectionFromMonths(collection,months)\n",
    "\n",
    "month_names = [f'{month[2]} - {YEAR}' for month in months]"
   ]
  },
  {
   "cell_type": "code",
   "execution_count": 10,
   "metadata": {},
   "outputs": [],
   "source": [
    "# Map.addLayer(newCollection.first().clip(roi),{\"min\":-25,\"max\":5})\n",
    "# Map"
   ]
  },
  {
   "cell_type": "code",
   "execution_count": 11,
   "metadata": {},
   "outputs": [
    {
     "name": "stdout",
     "output_type": "stream",
     "text": [
      "Generating URL...\n",
      "Downloading GIF image from https://earthengine.googleapis.com/v1alpha/projects/earthengine-legacy/videoThumbnails/137bf34a6f7a58ccf564691401b8294b-5e96c2a35feabd110a7bb5886180f7d4:getPixels\n",
      "Please wait ...\n",
      "The GIF image has been saved to: /Users/erickotenyo/Downloads/test.gif\n"
     ]
    },
    {
     "data": {
      "application/vnd.jupyter.widget-view+json": {
       "model_id": "8d64a0060baa43a1961568572c6c52e5",
       "version_major": 2,
       "version_minor": 0
      },
      "text/plain": [
       "Output()"
      ]
     },
     "metadata": {},
     "output_type": "display_data"
    }
   ],
   "source": [
    "video_args = {\n",
    "  'dimensions': 600,\n",
    "  'region': roi,\n",
    "  'framesPerSecond': 1,\n",
    "  'bands': ['VV',],\n",
    "  'min': -25, \n",
    "  'max': 5,\n",
    "  'gamma':1\n",
    "}\n",
    "\n",
    "work_dir = os.path.join(os.path.expanduser(\"~\"), 'Downloads')\n",
    "out_gif = os.path.join(work_dir, \"test.gif\")\n",
    "\n",
    "geemap.download_ee_video(newCollection, video_args, out_gif)\n",
    "\n",
    "texted_gif = os.path.join(work_dir, \"test_text.gif\")\n",
    "\n",
    "geemap.add_text_to_gif(out_gif,\n",
    "                       texted_gif, \n",
    "                       xy=('3%', '5%'), \n",
    "                       font_size=30, \n",
    "                       font_color='#ffffff', \n",
    "                       duration=1000,\n",
    "                       text_sequence = month_names,\n",
    "                       add_progress_bar=True)\n",
    "\n",
    "geemap.show_image(texted_gif)"
   ]
  },
  {
   "cell_type": "code",
   "execution_count": null,
   "metadata": {},
   "outputs": [],
   "source": []
  }
 ],
 "metadata": {
  "kernelspec": {
   "display_name": "Python 3",
   "language": "python",
   "name": "python3"
  },
  "language_info": {
   "codemirror_mode": {
    "name": "ipython",
    "version": 3
   },
   "file_extension": ".py",
   "mimetype": "text/x-python",
   "name": "python",
   "nbconvert_exporter": "python",
   "pygments_lexer": "ipython3",
   "version": "3.8.5"
  }
 },
 "nbformat": 4,
 "nbformat_minor": 4
}
